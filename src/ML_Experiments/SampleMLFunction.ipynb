{
 "cells": [
  {
   "cell_type": "code",
   "execution_count": 1,
   "metadata": {},
   "outputs": [],
   "source": [
    "#Implement PCA from scratch with numpy as a class\n",
    "class PCA:\n",
    "    def __init__(self, n_components):\n",
    "        self.n_components = n_components\n",
    "        self.components_ = None\n",
    "        self.mean_ = None\n",
    "    \n",
    "    def fit(self, X):\n",
    "        assert self.n_components <= X.shape[1], \"n_components must be less than or equal to the number of features\"\n",
    "        self.mean_ = np.mean(X, axis=0)\n",
    "        X = X - self.mean_\n",
    "        cov = np.cov(X.T)\n",
    "        eigenvalues, eigenvectors = np.linalg.eig(cov)\n",
    "        self.components_ = eigenvectors[:, :self.n_components]\n",
    "    \n",
    "    def transform(self, X):\n",
    "        X = X - self.mean_\n",
    "        return np.dot(X, self.components_)\n",
    "    \n",
    "    def fit_transform(self, X):\n",
    "        self.fit(X)\n",
    "        return self.transform(X)"
   ]
  },
  {
   "cell_type": "code",
   "execution_count": 2,
   "metadata": {},
   "outputs": [],
   "source": [
    "#Create a function to detect stationary time series cols in a df\n",
    "def stationary_cols(df, col_list, p_val=0.05):\n",
    "    stationary_cols = []\n",
    "    for col in col_list:\n",
    "        adf_test = adfuller(df[col])\n",
    "        if adf_test[1] <= p_val:\n",
    "            stationary_cols.append(col)\n",
    "    return stationary_cols"
   ]
  },
  {
   "cell_type": "code",
   "execution_count": 3,
   "metadata": {},
   "outputs": [],
   "source": [
    "#  Create a function to fit linear regression model\n",
    "def fit_linear_regression(X, y):\n",
    "    X = sm.add_constant(X)\n",
    "    model = sm.OLS(y, X)\n",
    "    results = model.fit()\n",
    "    return results"
   ]
  },
  {
   "cell_type": "code",
   "execution_count": null,
   "metadata": {},
   "outputs": [],
   "source": [
    "# Create a noisy image with width and height of 100\n",
    "img = np.random.rand(100, 100)\n",
    "# Display the image\n",
    "plt.imshow(img, cmap='gray')\n",
    "plt.show()"
   ]
  }
 ],
 "metadata": {
  "kernelspec": {
   "display_name": "Python 3",
   "language": "python",
   "name": "python3"
  },
  "language_info": {
   "codemirror_mode": {
    "name": "ipython",
    "version": 3
   },
   "file_extension": ".py",
   "mimetype": "text/x-python",
   "name": "python",
   "nbconvert_exporter": "python",
   "pygments_lexer": "ipython3",
   "version": "3.10.4"
  },
  "orig_nbformat": 4
 },
 "nbformat": 4,
 "nbformat_minor": 2
}
